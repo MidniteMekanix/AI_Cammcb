{
 "cells": [
  {
   "cell_type": "markdown",
   "id": "507ea7e0-cfa8-4b09-97a7-c988977203ac",
   "metadata": {
    "tags": []
   },
   "source": [
    "<h1 align='center'>Fire and Smoke detection</h1>"
   ]
  },
  {
   "cell_type": "markdown",
   "id": "65229653-949d-4054-9ebe-c7ae5e46235d",
   "metadata": {},
   "source": [
    "## OpenCV"
   ]
  },
  {
   "cell_type": "code",
   "execution_count": 1,
   "id": "9ca8b563-a52f-4838-9058-3adbfba2f04f",
   "metadata": {},
   "outputs": [],
   "source": [
    "import cv2\n",
    "import numpy as np\n",
    "import matplotlib.pyplot as plt"
   ]
  },
  {
   "cell_type": "code",
   "execution_count": 2,
   "id": "546a4868-f0e1-45ac-9bab-e3b590c27474",
   "metadata": {},
   "outputs": [],
   "source": [
    "class FireDetection:\n",
    "    def __init__(self):\n",
    "        self.fire_cascade = cv2.CascadeClassifier('../models/fire_detection.xml')\n",
    "\n",
    "    def detect(self, image):\n",
    "        return self.fire_cascade.detectMultiScale(image, 1.2, 5)\n",
    "\n",
    "    def show(self, image):\n",
    "        fire = self.detect(image)\n",
    "        for (x, y, w, h) in fire:\n",
    "            cv2.rectangle(image,(x-20,y-20),(x+w+20,y+h+20),(255,0,0),2)\n",
    "        return image\n"
   ]
  },
  {
   "cell_type": "code",
   "execution_count": 3,
   "id": "4b9d9a24-4682-420d-8bb6-4ed9d1eb1953",
   "metadata": {},
   "outputs": [],
   "source": [
    "cam = cv2.VideoCapture(0)\n",
    "Fire = FireDetection()\n",
    "while True:\n",
    "    ret, frame = cam.read()\n",
    "    if ret:\n",
    "        image = Fire.show(frame)\n",
    "        \n",
    "        cv2.imshow(\"Fire detection\", image)\n",
    "        \n",
    "        if cv2.waitKey(1) & 0xFF == ord('q'):\n",
    "            break"
   ]
  },
  {
   "cell_type": "code",
   "execution_count": null,
   "id": "b3b9bd54-d135-4ef4-9c3f-d23afaa8a6ee",
   "metadata": {},
   "outputs": [],
   "source": []
  },
  {
   "cell_type": "code",
   "execution_count": null,
   "id": "e108809d-e192-44cf-ac66-2cc170fa9f36",
   "metadata": {},
   "outputs": [],
   "source": []
  },
  {
   "cell_type": "code",
   "execution_count": null,
   "id": "4ea2c523-e92d-4b3f-9fa3-fa87445e1a38",
   "metadata": {},
   "outputs": [],
   "source": [
    "# fire_cascade = cv2.CascadeClassifier('../models/fire_detection.xml')\n",
    "# cap = cv2.VideoCapture(0)\n",
    "\n",
    "# while(True):\n",
    "#     ret, frame = cap.read()\n",
    "#     gray = cv2.cvtColor(frame, cv2.COLOR_BGR2GRAY)\n",
    "#     fire = fire_cascade.detectMultiScale(frame, 1.2, 5)\n",
    "\n",
    "#     for (x,y,w,h) in fire:\n",
    "#         cv2.rectangle(frame,(x-20,y-20),(x+w+20,y+h+20),(255,0,0),2)\n",
    "#         roi_gray = gray[y:y+h, x:x+w]\n",
    "#         roi_color = frame[y:y+h, x:x+w]\n",
    "#         print(\"fire is detected\")\n",
    "\n",
    "#     cv2.imshow('frame', frame)\n",
    "#     if cv2.waitKey(1) & 0xFF == ord('q'):\n",
    "#         break"
   ]
  },
  {
   "cell_type": "code",
   "execution_count": null,
   "id": "ac16a320-ca47-453a-aff7-5980b1b886b1",
   "metadata": {},
   "outputs": [],
   "source": []
  },
  {
   "cell_type": "code",
   "execution_count": null,
   "id": "1126f131-24f9-453f-8418-5e5fd0de5e93",
   "metadata": {},
   "outputs": [],
   "source": []
  },
  {
   "cell_type": "code",
   "execution_count": null,
   "id": "00926505-7d3c-4b98-8e2f-a46375ba5ae8",
   "metadata": {},
   "outputs": [],
   "source": []
  }
 ],
 "metadata": {
  "kernelspec": {
   "display_name": "Python 3 (ipykernel)",
   "language": "python",
   "name": "python3"
  },
  "language_info": {
   "codemirror_mode": {
    "name": "ipython",
    "version": 3
   },
   "file_extension": ".py",
   "mimetype": "text/x-python",
   "name": "python",
   "nbconvert_exporter": "python",
   "pygments_lexer": "ipython3",
   "version": "3.8.10"
  }
 },
 "nbformat": 4,
 "nbformat_minor": 5
}
